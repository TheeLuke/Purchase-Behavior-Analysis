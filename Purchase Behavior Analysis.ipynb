{
 "cells": [
  {
   "cell_type": "markdown",
   "id": "ac898ae8-4457-4898-8486-bb1fd757f810",
   "metadata": {},
   "source": [
    "# Purchase Behavior Analysis\n",
    "## Luke Sullivan"
   ]
  },
  {
   "cell_type": "markdown",
   "id": "e066acf1-3565-45ad-8e3e-a1b9e4815814",
   "metadata": {},
   "source": [
    "---\n",
    "\n",
    "## Dataset\n",
    "The dataset used for this analysis is the **Walmart Customer Purchase Behavior Dataset** collected by Walmart available on [Kaggle.com](https://www.kaggle.com/datasets/logiccraftbyhimanshi/walmart-customer-purchase-behavior-dataset)."
   ]
  },
  {
   "cell_type": "code",
   "execution_count": null,
   "id": "bae4f7f9-0e5b-4409-9427-84493905f8c3",
   "metadata": {},
   "outputs": [],
   "source": []
  },
  {
   "cell_type": "code",
   "execution_count": 28,
   "id": "33d85928-5fde-48eb-8df8-e451e4897435",
   "metadata": {},
   "outputs": [],
   "source": [
    "#imports\n",
    "import pandas as pd\n",
    "import numpy as np\n",
    "import matplotlib.pyplot as plt\n",
    "\n"
   ]
  },
  {
   "cell_type": "code",
   "execution_count": 29,
   "id": "fbddbf80-be88-4c0c-8cfe-1722ea618bd2",
   "metadata": {},
   "outputs": [
    {
     "data": {
      "text/plain": [
       "(50000, 12)"
      ]
     },
     "execution_count": 29,
     "metadata": {},
     "output_type": "execute_result"
    }
   ],
   "source": [
    "data = pd.read_csv('Walmart_customer_purchases.csv')\n",
    "data.shape"
   ]
  },
  {
   "cell_type": "code",
   "execution_count": 30,
   "id": "5ddc1184-31ff-4779-ad5c-17bf899f0d79",
   "metadata": {},
   "outputs": [
    {
     "name": "stdout",
     "output_type": "stream",
     "text": [
      "Columns: ['Customer_ID' 'Age' 'Gender' 'City' 'Category' 'Product_Name'\n",
      " 'Purchase_Date' 'Purchase_Amount' 'Payment_Method' 'Discount_Applied'\n",
      " 'Rating' 'Repeat_Customer']\n"
     ]
    }
   ],
   "source": [
    "columns = np.array(data.columns)\n",
    "print('Columns:', columns)"
   ]
  },
  {
   "cell_type": "code",
   "execution_count": 31,
   "id": "6452a1be-021f-4938-b617-712fb50687a4",
   "metadata": {},
   "outputs": [
    {
     "name": "stdout",
     "output_type": "stream",
     "text": [
      "Customer_ID         0\n",
      "Age                 0\n",
      "Gender              0\n",
      "City                0\n",
      "Category            0\n",
      "Product_Name        0\n",
      "Purchase_Date       0\n",
      "Purchase_Amount     0\n",
      "Payment_Method      0\n",
      "Discount_Applied    0\n",
      "Rating              0\n",
      "Repeat_Customer     0\n",
      "dtype: int64\n"
     ]
    }
   ],
   "source": [
    "print(data.isnull().sum())"
   ]
  },
  {
   "cell_type": "code",
   "execution_count": 32,
   "id": "5b013adb-4518-46b9-862a-e875de712d30",
   "metadata": {},
   "outputs": [
    {
     "data": {
      "text/html": [
       "<div>\n",
       "<style scoped>\n",
       "    .dataframe tbody tr th:only-of-type {\n",
       "        vertical-align: middle;\n",
       "    }\n",
       "\n",
       "    .dataframe tbody tr th {\n",
       "        vertical-align: top;\n",
       "    }\n",
       "\n",
       "    .dataframe thead th {\n",
       "        text-align: right;\n",
       "    }\n",
       "</style>\n",
       "<table border=\"1\" class=\"dataframe\">\n",
       "  <thead>\n",
       "    <tr style=\"text-align: right;\">\n",
       "      <th></th>\n",
       "      <th>Customer_ID</th>\n",
       "      <th>Age</th>\n",
       "      <th>Gender</th>\n",
       "      <th>City</th>\n",
       "      <th>Category</th>\n",
       "      <th>Product_Name</th>\n",
       "      <th>Purchase_Date</th>\n",
       "      <th>Purchase_Amount</th>\n",
       "      <th>Payment_Method</th>\n",
       "      <th>Discount_Applied</th>\n",
       "      <th>Rating</th>\n",
       "      <th>Repeat_Customer</th>\n",
       "    </tr>\n",
       "  </thead>\n",
       "  <tbody>\n",
       "    <tr>\n",
       "      <th>0</th>\n",
       "      <td>84607c1f-910c-44d5-b89f-e1ee06dd34c0</td>\n",
       "      <td>49</td>\n",
       "      <td>Female</td>\n",
       "      <td>New Cynthia</td>\n",
       "      <td>Electronics</td>\n",
       "      <td>Smartphone</td>\n",
       "      <td>2024-08-30</td>\n",
       "      <td>253.26</td>\n",
       "      <td>Cash on Delivery</td>\n",
       "      <td>No</td>\n",
       "      <td>1</td>\n",
       "      <td>Yes</td>\n",
       "    </tr>\n",
       "    <tr>\n",
       "      <th>1</th>\n",
       "      <td>f2a81712-a73e-4424-8b39-4c615a0bd4ea</td>\n",
       "      <td>36</td>\n",
       "      <td>Other</td>\n",
       "      <td>Cruzport</td>\n",
       "      <td>Clothing</td>\n",
       "      <td>T-Shirt</td>\n",
       "      <td>2024-12-21</td>\n",
       "      <td>73.19</td>\n",
       "      <td>Debit Card</td>\n",
       "      <td>Yes</td>\n",
       "      <td>1</td>\n",
       "      <td>No</td>\n",
       "    </tr>\n",
       "    <tr>\n",
       "      <th>2</th>\n",
       "      <td>da9be287-8b0e-4688-bccd-1a2cdd7567c6</td>\n",
       "      <td>52</td>\n",
       "      <td>Male</td>\n",
       "      <td>Jeffreytown</td>\n",
       "      <td>Beauty</td>\n",
       "      <td>Perfume</td>\n",
       "      <td>2024-12-26</td>\n",
       "      <td>125.62</td>\n",
       "      <td>Credit Card</td>\n",
       "      <td>Yes</td>\n",
       "      <td>1</td>\n",
       "      <td>No</td>\n",
       "    </tr>\n",
       "    <tr>\n",
       "      <th>3</th>\n",
       "      <td>50ec6932-3ac7-492f-9e55-4b148212f302</td>\n",
       "      <td>47</td>\n",
       "      <td>Female</td>\n",
       "      <td>Jenniferburgh</td>\n",
       "      <td>Electronics</td>\n",
       "      <td>Smartwatch</td>\n",
       "      <td>2024-11-04</td>\n",
       "      <td>450.32</td>\n",
       "      <td>Credit Card</td>\n",
       "      <td>No</td>\n",
       "      <td>2</td>\n",
       "      <td>Yes</td>\n",
       "    </tr>\n",
       "    <tr>\n",
       "      <th>4</th>\n",
       "      <td>8fdc3098-fc75-4b0f-983c-d8d8168c6362</td>\n",
       "      <td>43</td>\n",
       "      <td>Other</td>\n",
       "      <td>Kingshire</td>\n",
       "      <td>Electronics</td>\n",
       "      <td>Smartphone</td>\n",
       "      <td>2024-10-07</td>\n",
       "      <td>369.28</td>\n",
       "      <td>Credit Card</td>\n",
       "      <td>Yes</td>\n",
       "      <td>2</td>\n",
       "      <td>Yes</td>\n",
       "    </tr>\n",
       "    <tr>\n",
       "      <th>5</th>\n",
       "      <td>fdf82943-1b5f-4e0a-bf42-9a8e2035924e</td>\n",
       "      <td>59</td>\n",
       "      <td>Female</td>\n",
       "      <td>North Josemouth</td>\n",
       "      <td>Electronics</td>\n",
       "      <td>Laptop</td>\n",
       "      <td>2024-02-15</td>\n",
       "      <td>435.48</td>\n",
       "      <td>Cash on Delivery</td>\n",
       "      <td>No</td>\n",
       "      <td>3</td>\n",
       "      <td>No</td>\n",
       "    </tr>\n",
       "    <tr>\n",
       "      <th>6</th>\n",
       "      <td>582e8439-2b9b-46bd-93ff-71d610f455cc</td>\n",
       "      <td>47</td>\n",
       "      <td>Male</td>\n",
       "      <td>Johnsonton</td>\n",
       "      <td>Beauty</td>\n",
       "      <td>Perfume</td>\n",
       "      <td>2024-12-19</td>\n",
       "      <td>231.04</td>\n",
       "      <td>Debit Card</td>\n",
       "      <td>No</td>\n",
       "      <td>4</td>\n",
       "      <td>Yes</td>\n",
       "    </tr>\n",
       "    <tr>\n",
       "      <th>7</th>\n",
       "      <td>664555b7-7fd7-44a8-b4da-ec00230381b9</td>\n",
       "      <td>23</td>\n",
       "      <td>Other</td>\n",
       "      <td>Hoffmanmouth</td>\n",
       "      <td>Home</td>\n",
       "      <td>Sofa Cover</td>\n",
       "      <td>2024-09-28</td>\n",
       "      <td>240.91</td>\n",
       "      <td>Cash on Delivery</td>\n",
       "      <td>No</td>\n",
       "      <td>2</td>\n",
       "      <td>No</td>\n",
       "    </tr>\n",
       "    <tr>\n",
       "      <th>8</th>\n",
       "      <td>a8e37b6a-d34c-4d21-84fc-ef713d4859be</td>\n",
       "      <td>60</td>\n",
       "      <td>Female</td>\n",
       "      <td>South Billyberg</td>\n",
       "      <td>Beauty</td>\n",
       "      <td>Shampoo</td>\n",
       "      <td>2025-01-30</td>\n",
       "      <td>179.76</td>\n",
       "      <td>UPI</td>\n",
       "      <td>Yes</td>\n",
       "      <td>5</td>\n",
       "      <td>Yes</td>\n",
       "    </tr>\n",
       "    <tr>\n",
       "      <th>9</th>\n",
       "      <td>fa3bfd3a-99a4-41c7-bebc-8b04dc4c95f7</td>\n",
       "      <td>52</td>\n",
       "      <td>Female</td>\n",
       "      <td>North Katherinemouth</td>\n",
       "      <td>Home</td>\n",
       "      <td>Cookware</td>\n",
       "      <td>2024-12-23</td>\n",
       "      <td>463.43</td>\n",
       "      <td>Cash on Delivery</td>\n",
       "      <td>Yes</td>\n",
       "      <td>3</td>\n",
       "      <td>No</td>\n",
       "    </tr>\n",
       "  </tbody>\n",
       "</table>\n",
       "</div>"
      ],
      "text/plain": [
       "                            Customer_ID  Age  Gender                  City  \\\n",
       "0  84607c1f-910c-44d5-b89f-e1ee06dd34c0   49  Female           New Cynthia   \n",
       "1  f2a81712-a73e-4424-8b39-4c615a0bd4ea   36   Other              Cruzport   \n",
       "2  da9be287-8b0e-4688-bccd-1a2cdd7567c6   52    Male           Jeffreytown   \n",
       "3  50ec6932-3ac7-492f-9e55-4b148212f302   47  Female         Jenniferburgh   \n",
       "4  8fdc3098-fc75-4b0f-983c-d8d8168c6362   43   Other             Kingshire   \n",
       "5  fdf82943-1b5f-4e0a-bf42-9a8e2035924e   59  Female       North Josemouth   \n",
       "6  582e8439-2b9b-46bd-93ff-71d610f455cc   47    Male            Johnsonton   \n",
       "7  664555b7-7fd7-44a8-b4da-ec00230381b9   23   Other          Hoffmanmouth   \n",
       "8  a8e37b6a-d34c-4d21-84fc-ef713d4859be   60  Female       South Billyberg   \n",
       "9  fa3bfd3a-99a4-41c7-bebc-8b04dc4c95f7   52  Female  North Katherinemouth   \n",
       "\n",
       "      Category Product_Name Purchase_Date  Purchase_Amount    Payment_Method  \\\n",
       "0  Electronics   Smartphone    2024-08-30           253.26  Cash on Delivery   \n",
       "1     Clothing      T-Shirt    2024-12-21            73.19        Debit Card   \n",
       "2       Beauty      Perfume    2024-12-26           125.62       Credit Card   \n",
       "3  Electronics   Smartwatch    2024-11-04           450.32       Credit Card   \n",
       "4  Electronics   Smartphone    2024-10-07           369.28       Credit Card   \n",
       "5  Electronics       Laptop    2024-02-15           435.48  Cash on Delivery   \n",
       "6       Beauty      Perfume    2024-12-19           231.04        Debit Card   \n",
       "7         Home   Sofa Cover    2024-09-28           240.91  Cash on Delivery   \n",
       "8       Beauty      Shampoo    2025-01-30           179.76               UPI   \n",
       "9         Home     Cookware    2024-12-23           463.43  Cash on Delivery   \n",
       "\n",
       "  Discount_Applied  Rating Repeat_Customer  \n",
       "0               No       1             Yes  \n",
       "1              Yes       1              No  \n",
       "2              Yes       1              No  \n",
       "3               No       2             Yes  \n",
       "4              Yes       2             Yes  \n",
       "5               No       3              No  \n",
       "6               No       4             Yes  \n",
       "7               No       2              No  \n",
       "8              Yes       5             Yes  \n",
       "9              Yes       3              No  "
      ]
     },
     "execution_count": 32,
     "metadata": {},
     "output_type": "execute_result"
    }
   ],
   "source": [
    "data.head(10)"
   ]
  },
  {
   "cell_type": "code",
   "execution_count": 47,
   "id": "a9dae4f2-b3bd-436f-898c-df776106cd14",
   "metadata": {},
   "outputs": [
    {
     "name": "stdout",
     "output_type": "stream",
     "text": [
      "Number of unique Customer_IDs: 50000\n"
     ]
    }
   ],
   "source": [
    "unique_id_count = data['Customer_ID'].nunique()\n",
    "print(\"Number of unique Customer_IDs:\", unique_id_count)"
   ]
  },
  {
   "cell_type": "code",
   "execution_count": null,
   "id": "f025799f-2ca1-43ea-adaf-f4eef2dfd430",
   "metadata": {},
   "outputs": [],
   "source": [
    "#all customer id values are unique, assume I.I.D?"
   ]
  },
  {
   "cell_type": "markdown",
   "id": "96af45d4-02de-4ad0-a26f-e6d2ae61e168",
   "metadata": {
    "jp-MarkdownHeadingCollapsed": true
   },
   "source": [
    "### Gender"
   ]
  },
  {
   "cell_type": "code",
   "execution_count": 34,
   "id": "91cf688f-1bb2-4819-a114-df56677e9b59",
   "metadata": {},
   "outputs": [
    {
     "name": "stdout",
     "output_type": "stream",
     "text": [
      "['Female' 'Other' 'Male']\n"
     ]
    }
   ],
   "source": [
    "print(data['Gender'].unique())"
   ]
  },
  {
   "cell_type": "code",
   "execution_count": 40,
   "id": "253c9f9b-20d0-40f2-8e7f-cd7577816431",
   "metadata": {},
   "outputs": [
    {
     "data": {
      "image/png": "[encoded data removed]",
      "text/plain": [
       "<Figure size 800x600 with 1 Axes>"
      ]
     },
     "metadata": {},
     "output_type": "display_data"
    },
    {
     "name": "stdout",
     "output_type": "stream",
     "text": [
      "Female Gender Count: 16605\n",
      "Male Gender Count: 16644\n",
      "Other Gender Count: 16751\n"
     ]
    }
   ],
   "source": [
    "female_gender_count = data[data['Gender'] == \"Female\"].shape[0]\n",
    "male_gender_count = data[data['Gender'] == \"Male\"].shape[0]\n",
    "other_gender_count = data[data['Gender'] == \"Other\"].shape[0]\n",
    "\n",
    "gender_counts = {\n",
    "    \"Female\": female_gender_count,\n",
    "    \"Male\": male_gender_count,\n",
    "    \"Other\": other_gender_count\n",
    "}\n",
    "\n",
    "plt.figure(figsize=(8, 6)) \n",
    "plt.bar(gender_counts.keys(), gender_counts.values(), color=['pink', 'blue', 'purple'])\n",
    "plt.title(\"Gender Distribution\", fontsize=16)\n",
    "plt.xlabel(\"Gender\", fontsize=14)\n",
    "plt.ylabel(\"Count\", fontsize=14)\n",
    "min_y = 16550\n",
    "max_y = max(gender_counts.values()) + 10  # Set a bit above the largest count\n",
    "plt.ylim(min_y, max_y)  # Adjust y-axis limits\n",
    "plt.xticks(fontsize=12)\n",
    "plt.yticks(fontsize=12)\n",
    "plt.grid(axis='y', linestyle='--', alpha=0.7)\n",
    "\n",
    "plt.show()\n",
    "print(\"Female Gender Count:\", female_gender_count)\n",
    "print(\"Male Gender Count:\", male_gender_count)\n",
    "print(\"Other Gender Count:\", other_gender_count)"
   ]
  },
  {
   "cell_type": "markdown",
   "id": "4e7e6d44-447a-44a8-be99-eccf60beaa49",
   "metadata": {
    "jp-MarkdownHeadingCollapsed": true
   },
   "source": [
    "### Age"
   ]
  },
  {
   "cell_type": "code",
   "execution_count": 21,
   "id": "a52928b4-d346-4c0b-bca7-b9c4711b30cc",
   "metadata": {},
   "outputs": [
    {
     "name": "stdout",
     "output_type": "stream",
     "text": [
      "[18 19 20 21 22 23 24 25 26 27 28 29 30 31 32 33 34 35 36 37 38 39 40 41\n",
      " 42 43 44 45 46 47 48 49 50 51 52 53 54 55 56 57 58 59 60]\n"
     ]
    }
   ],
   "source": [
    "ages = data['Age'].unique()\n",
    "ages_array = np.array(ages)\n",
    "ages_array = np.sort(ages_array)\n",
    "print(ages_array)"
   ]
  },
  {
   "cell_type": "code",
   "execution_count": 26,
   "id": "cfa051d2-9c92-4c16-bb49-becdfa05b7a4",
   "metadata": {},
   "outputs": [
    {
     "data": {
      "text/html": [
       "<div>\n",
       "<style scoped>\n",
       "    .dataframe tbody tr th:only-of-type {\n",
       "        vertical-align: middle;\n",
       "    }\n",
       "\n",
       "    .dataframe tbody tr th {\n",
       "        vertical-align: top;\n",
       "    }\n",
       "\n",
       "    .dataframe thead th {\n",
       "        text-align: right;\n",
       "    }\n",
       "</style>\n",
       "<table border=\"1\" class=\"dataframe\">\n",
       "  <thead>\n",
       "    <tr style=\"text-align: right;\">\n",
       "      <th></th>\n",
       "      <th>0</th>\n",
       "    </tr>\n",
       "  </thead>\n",
       "  <tbody>\n",
       "    <tr>\n",
       "      <th>count</th>\n",
       "      <td>43.000000</td>\n",
       "    </tr>\n",
       "    <tr>\n",
       "      <th>mean</th>\n",
       "      <td>39.000000</td>\n",
       "    </tr>\n",
       "    <tr>\n",
       "      <th>std</th>\n",
       "      <td>12.556539</td>\n",
       "    </tr>\n",
       "    <tr>\n",
       "      <th>min</th>\n",
       "      <td>18.000000</td>\n",
       "    </tr>\n",
       "    <tr>\n",
       "      <th>25%</th>\n",
       "      <td>28.500000</td>\n",
       "    </tr>\n",
       "    <tr>\n",
       "      <th>50%</th>\n",
       "      <td>39.000000</td>\n",
       "    </tr>\n",
       "    <tr>\n",
       "      <th>75%</th>\n",
       "      <td>49.500000</td>\n",
       "    </tr>\n",
       "    <tr>\n",
       "      <th>max</th>\n",
       "      <td>60.000000</td>\n",
       "    </tr>\n",
       "  </tbody>\n",
       "</table>\n",
       "</div>"
      ],
      "text/plain": [
       "               0\n",
       "count  43.000000\n",
       "mean   39.000000\n",
       "std    12.556539\n",
       "min    18.000000\n",
       "25%    28.500000\n",
       "50%    39.000000\n",
       "75%    49.500000\n",
       "max    60.000000"
      ]
     },
     "execution_count": 26,
     "metadata": {},
     "output_type": "execute_result"
    }
   ],
   "source": [
    "ages = pd.DataFrame(ages_array)\n",
    "ages.describe()"
   ]
  },
  {
   "cell_type": "code",
   "execution_count": 46,
   "id": "0118fe14-cf22-42d0-ac48-bce1929ce68a",
   "metadata": {},
   "outputs": [
    {
     "name": "stdout",
     "output_type": "stream",
     "text": [
      "Age Group Counts:\n",
      "Teens: 2338\n",
      "20s: 11692\n",
      "30s: 11646\n",
      "40s: 11621\n",
      "50s: 11552\n",
      "60s: 1151\n"
     ]
    },
    {
     "data": {
      "image/png": "[encoded data removed]",
      "text/plain": [
       "<Figure size 800x600 with 1 Axes>"
      ]
     },
     "metadata": {},
     "output_type": "display_data"
    }
   ],
   "source": [
    "bins = [10, 19, 29, 39, 49, 59, 69]  # Upper bounds for each range\n",
    "labels = ['Teens', '20s', '30s', '40s', '50s', '60s']\n",
    "\n",
    "data['Age_Group'] = pd.cut(data['Age'], bins=bins, labels=labels, right=True)\n",
    "\n",
    "age_group_counts = data['Age_Group'].value_counts().sort_index()\n",
    "\n",
    "print(\"Age Group Counts:\")\n",
    "for group, count in age_group_counts.items():\n",
    "    print(f\"{group}: {count}\")\n",
    "\n",
    "plt.figure(figsize=(8, 6))\n",
    "plt.bar(age_group_counts.index.astype(str), age_group_counts.values, color='skyblue')\n",
    "plt.title(\"Age Distribution by Groups\", fontsize=16)\n",
    "plt.xlabel(\"Age Groups\", fontsize=14)\n",
    "plt.ylabel(\"Count\", fontsize=14)\n",
    "plt.xticks(fontsize=12)\n",
    "plt.yticks(fontsize=12)\n",
    "plt.grid(axis='y', linestyle='--', alpha=0.7)\n",
    "plt.show()"
   ]
  },
  {
   "cell_type": "markdown",
   "id": "5f80d78a-fe4e-44b7-a04d-50aecac5cd5d",
   "metadata": {},
   "source": [
    "### City"
   ]
  },
  {
   "cell_type": "code",
   "execution_count": null,
   "id": "6ecf0d8b-0555-462e-80cb-a4662b6cb411",
   "metadata": {},
   "outputs": [],
   "source": [
    "#continue.."
   ]
  }
 ],
 "metadata": {
  "kernelspec": {
   "display_name": "Python 3 (ipykernel)",
   "language": "python",
   "name": "python3"
  },
  "language_info": {
   "codemirror_mode": {
    "name": "ipython",
    "version": 3
   },
   "file_extension": ".py",
   "mimetype": "text/x-python",
   "name": "python",
   "nbconvert_exporter": "python",
   "pygments_lexer": "ipython3",
   "version": "3.11.7"
  }
 },
 "nbformat": 4,
 "nbformat_minor": 5
}
